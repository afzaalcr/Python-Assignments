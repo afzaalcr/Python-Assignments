{
 "cells": [
  {
   "cell_type": "code",
   "execution_count": 1,
   "id": "9381c33c",
   "metadata": {},
   "outputs": [
    {
     "name": "stdout",
     "output_type": "stream",
     "text": [
      "Twinkle, twinkle, little star,\n",
      "            How I wonder what you are!\n",
      "               Up Above the world so high,\n",
      "               like a dimond in the sky.\n",
      "Twinkle, twinkle, little star,\n",
      "            How I wonder what you are!\n"
     ]
    }
   ],
   "source": [
    "#1. Program to Print Twinkle Twinkle in required Format\n",
    "\n",
    "a='''Twinkle, twinkle, little star,\n",
    "            How I wonder what you are!'''\n",
    "b='''               Up Above the world so high,\n",
    "               like a dimond in the sky.'''\n",
    "print(a,b,a,sep=('\\n'))"
   ]
  },
  {
   "cell_type": "code",
   "execution_count": 2,
   "id": "c390e6a4",
   "metadata": {},
   "outputs": [
    {
     "data": {
      "text/plain": [
       "'3.9.7'"
      ]
     },
     "execution_count": 2,
     "metadata": {},
     "output_type": "execute_result"
    }
   ],
   "source": [
    "#2. Program to show Version of Python Running in my System\n",
    "\n",
    "from platform import python_version\n",
    "python_version()"
   ]
  },
  {
   "cell_type": "code",
   "execution_count": 3,
   "id": "a8c8ddca",
   "metadata": {},
   "outputs": [
    {
     "name": "stdout",
     "output_type": "stream",
     "text": [
      "Current Time is:  22H:16M:31S\n"
     ]
    }
   ],
   "source": [
    "#3. Program to Show Current Date and time\n",
    "\n",
    "from datetime import datetime\n",
    "a=datetime.now()\n",
    "b=a.strftime(\"%HH:%MM:%SS\")\n",
    "print(\"Current Time is: \",b)"
   ]
  },
  {
   "cell_type": "code",
   "execution_count": 4,
   "id": "f77142ca",
   "metadata": {},
   "outputs": [
    {
     "name": "stdout",
     "output_type": "stream",
     "text": [
      "Please enter the Radius of a Circle in cm to find its Area: 100\n",
      "The Area of the Radius: 100 cm is:  31400.0 cm2\n"
     ]
    }
   ],
   "source": [
    "#4. Program to take Radius from User and Calculate Area of Circle\n",
    "\n",
    "radius=int(input(\"Please enter the Radius of a Circle in cm to find its Area: \"))\n",
    "pi=3.14\n",
    "Area=pi*(radius**2)\n",
    "print(\"The Area of the Radius:\",radius,\"cm is: \",Area,\"cm2\")"
   ]
  },
  {
   "cell_type": "code",
   "execution_count": 5,
   "id": "f472cbd8",
   "metadata": {},
   "outputs": [
    {
     "name": "stdout",
     "output_type": "stream",
     "text": [
      "Please Enter Your First Name Please: Afzaal\n",
      "Please Enter Your Last Name Please: Ahmed\n",
      "Ahmed Afzaal\n"
     ]
    }
   ],
   "source": [
    "#5. Program to take User First and Last Name and prind them in reverse order\n",
    "\n",
    "first_name=input(\"Please Enter Your First Name Please: \")\n",
    "last_name=input(\"Please Enter Your Last Name Please: \")\n",
    "print(last_name,first_name)"
   ]
  },
  {
   "cell_type": "code",
   "execution_count": 6,
   "id": "0f8049ba",
   "metadata": {},
   "outputs": [
    {
     "name": "stdout",
     "output_type": "stream",
     "text": [
      "Please Enter First Number: 9015\n",
      "Please Enter Second Number: 124\n",
      "If we add 9015 and 124 then the Answer is:  9139\n"
     ]
    }
   ],
   "source": [
    "#6. Prgram to take two number from User and print their addition\n",
    "\n",
    "num_1=int(input(\"Please Enter First Number: \"))\n",
    "num_2=int(input(\"Please Enter Second Number: \"))\n",
    "addition=num_1+num_2\n",
    "print(\"If we add\",num_1,\"and\",num_2,\"then the Answer is: \",addition)"
   ]
  },
  {
   "cell_type": "code",
   "execution_count": null,
   "id": "c6b9fdd8",
   "metadata": {},
   "outputs": [],
   "source": []
  }
 ],
 "metadata": {
  "kernelspec": {
   "display_name": "Python 3 (ipykernel)",
   "language": "python",
   "name": "python3"
  },
  "language_info": {
   "codemirror_mode": {
    "name": "ipython",
    "version": 3
   },
   "file_extension": ".py",
   "mimetype": "text/x-python",
   "name": "python",
   "nbconvert_exporter": "python",
   "pygments_lexer": "ipython3",
   "version": "3.9.7"
  }
 },
 "nbformat": 4,
 "nbformat_minor": 5
}
